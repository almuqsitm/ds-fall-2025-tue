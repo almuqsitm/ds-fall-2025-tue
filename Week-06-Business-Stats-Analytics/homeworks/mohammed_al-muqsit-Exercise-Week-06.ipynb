{
 "cells": [
  {
   "cell_type": "markdown",
   "id": "15cd454b",
   "metadata": {},
   "source": [
    "# Week 06: Business Statistics & Analytics - E-commerce Analysis\n",
    "\n",
    "## Learning Objectives\n",
    "By the end of this exercise, you will be able to:\n",
    "- Calculate key business metrics using pandas\n",
    "- Create meaningful visualizations for business insights\n",
    "- Apply statistical concepts to real business scenarios\n",
    "- Make data-driven recommendations\n",
    "\n",
    "---\n",
    "\n",
    "## Business Context\n",
    "\n",
    "You're working as a Data Analyst for **TechMart**, an e-commerce company. Your manager needs insights from last quarter's sales data to inform strategic decisions for the upcoming quarter.\n",
    "\n",
    "Your analysis will help answer critical questions about customer behavior, regional performance, and product trends that directly impact business growth."
   ]
  },
  {
   "cell_type": "markdown",
   "id": "023b9e8d",
   "metadata": {},
   "source": [
    "## Dataset Setup\n",
    "\n",
    "First, let's generate the synthetic dataset you'll be analyzing:"
   ]
  },
  {
   "cell_type": "code",
   "execution_count": 148,
   "id": "3608e087",
   "metadata": {},
   "outputs": [
    {
     "name": "stdout",
     "output_type": "stream",
     "text": [
      "✅ Dataset created successfully!\n"
     ]
    },
    {
     "data": {
      "text/html": [
       "<div>\n",
       "<style scoped>\n",
       "    .dataframe tbody tr th:only-of-type {\n",
       "        vertical-align: middle;\n",
       "    }\n",
       "\n",
       "    .dataframe tbody tr th {\n",
       "        vertical-align: top;\n",
       "    }\n",
       "\n",
       "    .dataframe thead th {\n",
       "        text-align: right;\n",
       "    }\n",
       "</style>\n",
       "<table border=\"1\" class=\"dataframe\">\n",
       "  <thead>\n",
       "    <tr style=\"text-align: right;\">\n",
       "      <th></th>\n",
       "      <th>order_id</th>\n",
       "      <th>customer_id</th>\n",
       "      <th>customer_segment</th>\n",
       "      <th>region</th>\n",
       "      <th>order_date</th>\n",
       "      <th>product_category</th>\n",
       "      <th>quantity</th>\n",
       "      <th>unit_price</th>\n",
       "      <th>revenue</th>\n",
       "      <th>discount_applied</th>\n",
       "      <th>payment_method</th>\n",
       "    </tr>\n",
       "  </thead>\n",
       "  <tbody>\n",
       "    <tr>\n",
       "      <th>0</th>\n",
       "      <td>1</td>\n",
       "      <td>52</td>\n",
       "      <td>Student</td>\n",
       "      <td>North</td>\n",
       "      <td>2023-01-01</td>\n",
       "      <td>Clothing</td>\n",
       "      <td>1</td>\n",
       "      <td>42.43</td>\n",
       "      <td>42.43</td>\n",
       "      <td>0</td>\n",
       "      <td>Debit Card</td>\n",
       "    </tr>\n",
       "    <tr>\n",
       "      <th>1</th>\n",
       "      <td>2</td>\n",
       "      <td>93</td>\n",
       "      <td>Student</td>\n",
       "      <td>West</td>\n",
       "      <td>2023-01-02</td>\n",
       "      <td>Sports</td>\n",
       "      <td>1</td>\n",
       "      <td>24.18</td>\n",
       "      <td>24.18</td>\n",
       "      <td>0</td>\n",
       "      <td>Gift Card</td>\n",
       "    </tr>\n",
       "    <tr>\n",
       "      <th>2</th>\n",
       "      <td>3</td>\n",
       "      <td>15</td>\n",
       "      <td>Professional</td>\n",
       "      <td>East</td>\n",
       "      <td>2023-01-03</td>\n",
       "      <td>Sports</td>\n",
       "      <td>3</td>\n",
       "      <td>158.71</td>\n",
       "      <td>476.13</td>\n",
       "      <td>0</td>\n",
       "      <td>Debit Card</td>\n",
       "    </tr>\n",
       "    <tr>\n",
       "      <th>3</th>\n",
       "      <td>4</td>\n",
       "      <td>72</td>\n",
       "      <td>Student</td>\n",
       "      <td>East</td>\n",
       "      <td>2023-01-04</td>\n",
       "      <td>Sports</td>\n",
       "      <td>1</td>\n",
       "      <td>60.42</td>\n",
       "      <td>60.42</td>\n",
       "      <td>0</td>\n",
       "      <td>Credit Card</td>\n",
       "    </tr>\n",
       "    <tr>\n",
       "      <th>4</th>\n",
       "      <td>5</td>\n",
       "      <td>61</td>\n",
       "      <td>Student</td>\n",
       "      <td>West</td>\n",
       "      <td>2023-01-05</td>\n",
       "      <td>Books</td>\n",
       "      <td>3</td>\n",
       "      <td>43.78</td>\n",
       "      <td>131.34</td>\n",
       "      <td>0</td>\n",
       "      <td>Gift Card</td>\n",
       "    </tr>\n",
       "  </tbody>\n",
       "</table>\n",
       "</div>"
      ],
      "text/plain": [
       "   order_id  customer_id customer_segment region order_date product_category  \\\n",
       "0         1           52          Student  North 2023-01-01         Clothing   \n",
       "1         2           93          Student   West 2023-01-02           Sports   \n",
       "2         3           15     Professional   East 2023-01-03           Sports   \n",
       "3         4           72          Student   East 2023-01-04           Sports   \n",
       "4         5           61          Student   West 2023-01-05            Books   \n",
       "\n",
       "   quantity  unit_price  revenue  discount_applied payment_method  \n",
       "0         1       42.43    42.43                 0     Debit Card  \n",
       "1         1       24.18    24.18                 0      Gift Card  \n",
       "2         3      158.71   476.13                 0     Debit Card  \n",
       "3         1       60.42    60.42                 0    Credit Card  \n",
       "4         3       43.78   131.34                 0      Gift Card  "
      ]
     },
     "execution_count": 148,
     "metadata": {},
     "output_type": "execute_result"
    }
   ],
   "source": [
    "\n",
    "import pandas as pd\n",
    "import numpy as np\n",
    "import matplotlib.pyplot as plt\n",
    "import seaborn as sns\n",
    "\n",
    "# Set random seed for reproducible results\n",
    "np.random.seed(42)\n",
    "\n",
    "# Generate 500 orders from 2023\n",
    "n_orders = 500\n",
    "\n",
    "# Create order IDs and customer data\n",
    "order_id = np.arange(1, n_orders + 1)\n",
    "customer_id = np.random.randint(1, 101, size=n_orders)\n",
    "customer_segment = np.random.choice([\"Student\", \"Professional\", \"Senior\"], size=n_orders, p=[0.4, 0.4, 0.2])\n",
    "region = np.random.choice([\"North\", \"South\", \"East\", \"West\"], size=n_orders)\n",
    "order_date = pd.date_range(start=\"2023-01-01\", periods=n_orders, freq=\"D\")\n",
    "product_category = np.random.choice([\"Electronics\", \"Clothing\", \"Books\", \"Home\", \"Sports\"], size=n_orders)\n",
    "quantity = np.random.randint(1, 5, size=n_orders)\n",
    "unit_price = np.round(np.random.uniform(10, 200, size=n_orders), 2)\n",
    "revenue = quantity * unit_price\n",
    "discount_applied = np.random.choice([0, 5, 10, 15, 20, 25, 30], size=n_orders, p=[0.5,0.1,0.1,0.1,0.05,0.05,0.1])\n",
    "payment_method = np.random.choice([\"Credit Card\", \"PayPal\", \"Gift Card\", \"Debit Card\"], size=n_orders)\n",
    "\n",
    "# Build dataframe\n",
    "df = pd.DataFrame({\n",
    "    \"order_id\": order_id,\n",
    "    \"customer_id\": customer_id,\n",
    "    \"customer_segment\": customer_segment,\n",
    "    \"region\": region,\n",
    "    \"order_date\": order_date,\n",
    "    \"product_category\": product_category,\n",
    "    \"quantity\": quantity,\n",
    "    \"unit_price\": unit_price,\n",
    "    \"revenue\": revenue,\n",
    "    \"discount_applied\": discount_applied,\n",
    "    \"payment_method\": payment_method\n",
    "})\n",
    "\n",
    "# Save dataset for reference\n",
    "df.to_csv(\"ecommerce_data.csv\", index=False)\n",
    "print(\"✅ Dataset created successfully!\")\n",
    "\n",
    "# Display first few rows\n",
    "df.head()"
   ]
  },
  {
   "cell_type": "markdown",
   "id": "fbf765c7",
   "metadata": {},
   "source": [
    "## Data Exploration\n",
    "\n",
    "Let's start by understanding our dataset:"
   ]
  },
  {
   "cell_type": "code",
   "execution_count": 149,
   "id": "9ab80b5b",
   "metadata": {},
   "outputs": [
    {
     "name": "stdout",
     "output_type": "stream",
     "text": [
      "Dataset Info:\n",
      "<class 'pandas.core.frame.DataFrame'>\n",
      "RangeIndex: 500 entries, 0 to 499\n",
      "Data columns (total 11 columns):\n",
      " #   Column            Non-Null Count  Dtype  \n",
      "---  ------            --------------  -----  \n",
      " 0   order_id          500 non-null    int64  \n",
      " 1   customer_id       500 non-null    int64  \n",
      " 2   customer_segment  500 non-null    object \n",
      " 3   region            500 non-null    object \n",
      " 4   order_date        500 non-null    object \n",
      " 5   product_category  500 non-null    object \n",
      " 6   quantity          500 non-null    int64  \n",
      " 7   unit_price        500 non-null    float64\n",
      " 8   revenue           500 non-null    float64\n",
      " 9   discount_applied  500 non-null    int64  \n",
      " 10  payment_method    500 non-null    object \n",
      "dtypes: float64(2), int64(4), object(5)\n",
      "memory usage: 43.1+ KB\n",
      "None\n",
      "\n",
      "Dataset Shape: (500, 11)\n",
      "\n",
      "First few rows:\n"
     ]
    },
    {
     "data": {
      "text/html": [
       "<div>\n",
       "<style scoped>\n",
       "    .dataframe tbody tr th:only-of-type {\n",
       "        vertical-align: middle;\n",
       "    }\n",
       "\n",
       "    .dataframe tbody tr th {\n",
       "        vertical-align: top;\n",
       "    }\n",
       "\n",
       "    .dataframe thead th {\n",
       "        text-align: right;\n",
       "    }\n",
       "</style>\n",
       "<table border=\"1\" class=\"dataframe\">\n",
       "  <thead>\n",
       "    <tr style=\"text-align: right;\">\n",
       "      <th></th>\n",
       "      <th>order_id</th>\n",
       "      <th>customer_id</th>\n",
       "      <th>customer_segment</th>\n",
       "      <th>region</th>\n",
       "      <th>order_date</th>\n",
       "      <th>product_category</th>\n",
       "      <th>quantity</th>\n",
       "      <th>unit_price</th>\n",
       "      <th>revenue</th>\n",
       "      <th>discount_applied</th>\n",
       "      <th>payment_method</th>\n",
       "    </tr>\n",
       "  </thead>\n",
       "  <tbody>\n",
       "    <tr>\n",
       "      <th>0</th>\n",
       "      <td>1</td>\n",
       "      <td>52</td>\n",
       "      <td>Student</td>\n",
       "      <td>North</td>\n",
       "      <td>2023-01-01</td>\n",
       "      <td>Clothing</td>\n",
       "      <td>1</td>\n",
       "      <td>42.43</td>\n",
       "      <td>42.43</td>\n",
       "      <td>0</td>\n",
       "      <td>Debit Card</td>\n",
       "    </tr>\n",
       "    <tr>\n",
       "      <th>1</th>\n",
       "      <td>2</td>\n",
       "      <td>93</td>\n",
       "      <td>Student</td>\n",
       "      <td>West</td>\n",
       "      <td>2023-01-02</td>\n",
       "      <td>Sports</td>\n",
       "      <td>1</td>\n",
       "      <td>24.18</td>\n",
       "      <td>24.18</td>\n",
       "      <td>0</td>\n",
       "      <td>Gift Card</td>\n",
       "    </tr>\n",
       "    <tr>\n",
       "      <th>2</th>\n",
       "      <td>3</td>\n",
       "      <td>15</td>\n",
       "      <td>Professional</td>\n",
       "      <td>East</td>\n",
       "      <td>2023-01-03</td>\n",
       "      <td>Sports</td>\n",
       "      <td>3</td>\n",
       "      <td>158.71</td>\n",
       "      <td>476.13</td>\n",
       "      <td>0</td>\n",
       "      <td>Debit Card</td>\n",
       "    </tr>\n",
       "    <tr>\n",
       "      <th>3</th>\n",
       "      <td>4</td>\n",
       "      <td>72</td>\n",
       "      <td>Student</td>\n",
       "      <td>East</td>\n",
       "      <td>2023-01-04</td>\n",
       "      <td>Sports</td>\n",
       "      <td>1</td>\n",
       "      <td>60.42</td>\n",
       "      <td>60.42</td>\n",
       "      <td>0</td>\n",
       "      <td>Credit Card</td>\n",
       "    </tr>\n",
       "    <tr>\n",
       "      <th>4</th>\n",
       "      <td>5</td>\n",
       "      <td>61</td>\n",
       "      <td>Student</td>\n",
       "      <td>West</td>\n",
       "      <td>2023-01-05</td>\n",
       "      <td>Books</td>\n",
       "      <td>3</td>\n",
       "      <td>43.78</td>\n",
       "      <td>131.34</td>\n",
       "      <td>0</td>\n",
       "      <td>Gift Card</td>\n",
       "    </tr>\n",
       "  </tbody>\n",
       "</table>\n",
       "</div>"
      ],
      "text/plain": [
       "   order_id  customer_id customer_segment region  order_date product_category  \\\n",
       "0         1           52          Student  North  2023-01-01         Clothing   \n",
       "1         2           93          Student   West  2023-01-02           Sports   \n",
       "2         3           15     Professional   East  2023-01-03           Sports   \n",
       "3         4           72          Student   East  2023-01-04           Sports   \n",
       "4         5           61          Student   West  2023-01-05            Books   \n",
       "\n",
       "   quantity  unit_price  revenue  discount_applied payment_method  \n",
       "0         1       42.43    42.43                 0     Debit Card  \n",
       "1         1       24.18    24.18                 0      Gift Card  \n",
       "2         3      158.71   476.13                 0     Debit Card  \n",
       "3         1       60.42    60.42                 0    Credit Card  \n",
       "4         3       43.78   131.34                 0      Gift Card  "
      ]
     },
     "execution_count": 149,
     "metadata": {},
     "output_type": "execute_result"
    }
   ],
   "source": [
    "# Load the data\n",
    "data = pd.read_csv(\"ecommerce_data.csv\")\n",
    "\n",
    "# Basic information about the dataset\n",
    "print(\"Dataset Info:\")\n",
    "print(data.info())\n",
    "print(\"\\nDataset Shape:\", data.shape)\n",
    "print(\"\\nFirst few rows:\")\n",
    "data.head()"
   ]
  },
  {
   "cell_type": "code",
   "execution_count": 150,
   "id": "45510b1d",
   "metadata": {},
   "outputs": [
    {
     "name": "stdout",
     "output_type": "stream",
     "text": [
      "Monthly Revenue:\n",
      "month\n",
      "2023-01    6626.66\n",
      "2023-02    6796.03\n",
      "2023-03    8960.10\n",
      "2023-04    7713.47\n",
      "2023-05    7266.80\n",
      "2023-06    7982.47\n",
      "2023-07    7981.65\n",
      "2023-08    6664.64\n",
      "2023-09    9708.06\n",
      "2023-10    7287.27\n",
      "2023-11    8795.85\n",
      "2023-12    8119.44\n",
      "2024-01    7268.59\n",
      "2024-02    8388.91\n",
      "2024-03    6835.73\n",
      "2024-04    7430.29\n",
      "2024-05    4314.71\n",
      "Freq: M, Name: revenue, dtype: float64\n"
     ]
    },
    {
     "data": {
      "image/png": "[encoded data removed]",
      "text/plain": [
       "<Figure size 1000x600 with 1 Axes>"
      ]
     },
     "metadata": {},
     "output_type": "display_data"
    }
   ],
   "source": [
    "# Convert order_date to datetime and add helpful columns\n",
    "data[\"order_date\"] = pd.to_datetime(data[\"order_date\"])\n",
    "data[\"month\"] = data[\"order_date\"].dt.to_period(\"M\")\n",
    "data[\"day_of_week\"] = data[\"order_date\"].dt.day_name()\n",
    "\n",
    "# Example: Revenue by month\n",
    "monthly_revenue = data.groupby(\"month\")[\"revenue\"].sum()\n",
    "print(\"Monthly Revenue:\")\n",
    "print(monthly_revenue)\n",
    "\n",
    "# Plot monthly revenue\n",
    "monthly_revenue.plot(kind=\"bar\", figsize=(10,6), title=\"Monthly Revenue\")\n",
    "plt.ylabel(\"Revenue ($)\")\n",
    "plt.xticks(rotation=45)\n",
    "plt.tight_layout()\n",
    "plt.show()"
   ]
  },
  {
   "cell_type": "markdown",
   "id": "62a50bf3",
   "metadata": {},
   "source": [
    "---\n",
    "\n",
    "## Business Questions\n",
    "\n",
    "Now answer each of the following business questions. Use the starter code above as a reference, and expand your analysis to solve all questions."
   ]
  },
  {
   "cell_type": "markdown",
   "id": "fbb669ad",
   "metadata": {},
   "source": [
    "### 1. Revenue Overview\n",
    "What was the company's total revenue last quarter? Break it down by month."
   ]
  },
  {
   "cell_type": "code",
   "execution_count": 151,
   "id": "12d89265",
   "metadata": {},
   "outputs": [
    {
     "name": "stdout",
     "output_type": "stream",
     "text": [
      "Monthly Revenue:\n",
      "month\n",
      "2023-01    6626.66\n",
      "2023-02    6796.03\n",
      "2023-03    8960.10\n",
      "Freq: M, Name: revenue, dtype: float64\n",
      "\n",
      "Total revenue last quarter:  22382.79\n"
     ]
    }
   ],
   "source": [
    "# latest month is May 2025 which is part of this quarter\n",
    "# assuming last quarter is January to March 2024 --> we will filter for that\n",
    "last_quarter = data[(data[\"order_date\"] >= \"2023-01-01\") & (data[\"order_date\"] <= \"2023-03-31\")]\n",
    "\n",
    "# revenue by month in last quarter\n",
    "last_quarter_rev = last_quarter.groupby(\"month\")[\"revenue\"].sum()\n",
    "print(\"Monthly Revenue:\")\n",
    "print(last_quarter_rev)\n",
    "\n",
    "# total revenue in last quarter\n",
    "print('\\nTotal revenue last quarter: ', float(last_quarter_rev.sum()))"
   ]
  },
  {
   "cell_type": "markdown",
   "id": "a9b5c29e",
   "metadata": {},
   "source": [
    "### 2. Top Customers\n",
    "Who are the top 5 customers by total revenue contribution?"
   ]
  },
  {
   "cell_type": "code",
   "execution_count": 152,
   "id": "75147e3f",
   "metadata": {},
   "outputs": [
    {
     "name": "stdout",
     "output_type": "stream",
     "text": [
      "Top 5 customers:\n"
     ]
    },
    {
     "data": {
      "text/plain": [
       "customer_id\n",
       "62    4448.39\n",
       "24    3369.44\n",
       "90    2976.78\n",
       "92    2838.74\n",
       "97    2835.62\n",
       "Name: revenue, dtype: float64"
      ]
     },
     "execution_count": 152,
     "metadata": {},
     "output_type": "execute_result"
    }
   ],
   "source": [
    "# these are our top spenders --> customer_id 62 spent the most\n",
    "customer_revenue = data.groupby(\"customer_id\")[\"revenue\"].sum()\n",
    "top_5_customers = customer_revenue.sort_values(ascending=False).head(5)\n",
    "print(\"Top 5 customers:\")\n",
    "top_5_customers\n"
   ]
  },
  {
   "cell_type": "markdown",
   "id": "3ce59b98",
   "metadata": {},
   "source": [
    "### 3. Segment Analysis\n",
    "Which customer segment (Student, Professional, Senior) spends the most on average per order?"
   ]
  },
  {
   "cell_type": "code",
   "execution_count": 153,
   "id": "6fa0576d",
   "metadata": {},
   "outputs": [
    {
     "name": "stdout",
     "output_type": "stream",
     "text": [
      "Seniors have the highest average revenue per order but not by a significant amount.\n"
     ]
    },
    {
     "data": {
      "text/plain": [
       "customer_segment\n",
       "Professional    255.65\n",
       "Senior          262.13\n",
       "Student         253.81\n",
       "Name: revenue, dtype: float64"
      ]
     },
     "execution_count": 153,
     "metadata": {},
     "output_type": "execute_result"
    }
   ],
   "source": [
    "segment_avg_revenue = data.groupby(\"customer_segment\")[\"revenue\"].mean().round(2)\n",
    "\n",
    "print(\"Seniors have the highest average revenue per order but not by a significant amount.\")\n",
    "\n",
    "segment_avg_revenue"
   ]
  },
  {
   "cell_type": "markdown",
   "id": "507ae942",
   "metadata": {},
   "source": [
    "### 4. Regional Trends\n",
    "Which region generated the highest revenue? Which region had the highest average order size?"
   ]
  },
  {
   "cell_type": "code",
   "execution_count": 154,
   "id": "91f5071a",
   "metadata": {},
   "outputs": [
    {
     "name": "stdout",
     "output_type": "stream",
     "text": [
      "The region with both highest total revenue and average order size is South.\n"
     ]
    },
    {
     "data": {
      "text/html": [
       "<div>\n",
       "<style scoped>\n",
       "    .dataframe tbody tr th:only-of-type {\n",
       "        vertical-align: middle;\n",
       "    }\n",
       "\n",
       "    .dataframe tbody tr th {\n",
       "        vertical-align: top;\n",
       "    }\n",
       "\n",
       "    .dataframe thead th {\n",
       "        text-align: right;\n",
       "    }\n",
       "</style>\n",
       "<table border=\"1\" class=\"dataframe\">\n",
       "  <thead>\n",
       "    <tr style=\"text-align: right;\">\n",
       "      <th></th>\n",
       "      <th>total_revenue</th>\n",
       "      <th>avg_order_size</th>\n",
       "    </tr>\n",
       "    <tr>\n",
       "      <th>region</th>\n",
       "      <th></th>\n",
       "      <th></th>\n",
       "    </tr>\n",
       "  </thead>\n",
       "  <tbody>\n",
       "    <tr>\n",
       "      <th>South</th>\n",
       "      <td>34839.45</td>\n",
       "      <td>274.326378</td>\n",
       "    </tr>\n",
       "    <tr>\n",
       "      <th>North</th>\n",
       "      <td>34351.69</td>\n",
       "      <td>258.283383</td>\n",
       "    </tr>\n",
       "    <tr>\n",
       "      <th>East</th>\n",
       "      <td>31221.80</td>\n",
       "      <td>240.167692</td>\n",
       "    </tr>\n",
       "    <tr>\n",
       "      <th>West</th>\n",
       "      <td>27727.73</td>\n",
       "      <td>252.070273</td>\n",
       "    </tr>\n",
       "  </tbody>\n",
       "</table>\n",
       "</div>"
      ],
      "text/plain": [
       "        total_revenue  avg_order_size\n",
       "region                               \n",
       "South        34839.45      274.326378\n",
       "North        34351.69      258.283383\n",
       "East         31221.80      240.167692\n",
       "West         27727.73      252.070273"
      ]
     },
     "execution_count": 154,
     "metadata": {},
     "output_type": "execute_result"
    }
   ],
   "source": [
    "print(\"The region with both highest total revenue and average order size is South.\")\n",
    "region_summary = (data.groupby(\"region\")[\"revenue\"].agg(total_revenue=\"sum\", avg_order_size=\"mean\")\n",
    "                  .sort_values(\"total_revenue\", ascending=False))\n",
    "region_summary\n"
   ]
  },
  {
   "cell_type": "markdown",
   "id": "5b7e51d1",
   "metadata": {},
   "source": [
    "### 5. Product Category Performance\n",
    "Which product category is most popular by quantity vs. by revenue?"
   ]
  },
  {
   "cell_type": "code",
   "execution_count": 155,
   "id": "1041c72c",
   "metadata": {},
   "outputs": [
    {
     "data": {
      "text/html": [
       "<div>\n",
       "<style scoped>\n",
       "    .dataframe tbody tr th:only-of-type {\n",
       "        vertical-align: middle;\n",
       "    }\n",
       "\n",
       "    .dataframe tbody tr th {\n",
       "        vertical-align: top;\n",
       "    }\n",
       "\n",
       "    .dataframe thead th {\n",
       "        text-align: right;\n",
       "    }\n",
       "</style>\n",
       "<table border=\"1\" class=\"dataframe\">\n",
       "  <thead>\n",
       "    <tr style=\"text-align: right;\">\n",
       "      <th></th>\n",
       "      <th>total_quantity</th>\n",
       "      <th>total_revenue</th>\n",
       "    </tr>\n",
       "    <tr>\n",
       "      <th>product_category</th>\n",
       "      <th></th>\n",
       "      <th></th>\n",
       "    </tr>\n",
       "  </thead>\n",
       "  <tbody>\n",
       "    <tr>\n",
       "      <th>Books</th>\n",
       "      <td>227</td>\n",
       "      <td>24046.06</td>\n",
       "    </tr>\n",
       "    <tr>\n",
       "      <th>Clothing</th>\n",
       "      <td>253</td>\n",
       "      <td>24804.57</td>\n",
       "    </tr>\n",
       "    <tr>\n",
       "      <th>Electronics</th>\n",
       "      <td>239</td>\n",
       "      <td>25498.31</td>\n",
       "    </tr>\n",
       "    <tr>\n",
       "      <th>Home</th>\n",
       "      <td>269</td>\n",
       "      <td>29871.47</td>\n",
       "    </tr>\n",
       "    <tr>\n",
       "      <th>Sports</th>\n",
       "      <td>246</td>\n",
       "      <td>23920.26</td>\n",
       "    </tr>\n",
       "  </tbody>\n",
       "</table>\n",
       "</div>"
      ],
      "text/plain": [
       "                  total_quantity  total_revenue\n",
       "product_category                               \n",
       "Books                        227       24046.06\n",
       "Clothing                     253       24804.57\n",
       "Electronics                  239       25498.31\n",
       "Home                         269       29871.47\n",
       "Sports                       246       23920.26"
      ]
     },
     "execution_count": 155,
     "metadata": {},
     "output_type": "execute_result"
    }
   ],
   "source": [
    "# Home is most popular by both category and revenue\n",
    "category_summary = data.groupby(\"product_category\").agg(\n",
    "    total_quantity=(\"quantity\", \"sum\"),  \n",
    "    total_revenue=(\"revenue\", \"sum\"),  \n",
    ")\n",
    "\n",
    "category_summary\n"
   ]
  },
  {
   "cell_type": "markdown",
   "id": "bc82f78d",
   "metadata": {},
   "source": [
    "### 6. Discount Effectiveness\n",
    "Do discounted orders generate higher or lower revenue per order compared to non-discounted orders?"
   ]
  },
  {
   "cell_type": "code",
   "execution_count": 156,
   "id": "7cb097dc",
   "metadata": {},
   "outputs": [
    {
     "name": "stdout",
     "output_type": "stream",
     "text": [
      "Discounted orders did indeed have higher revenue than non-discounted orders\n"
     ]
    },
    {
     "data": {
      "text/html": [
       "<div>\n",
       "<style scoped>\n",
       "    .dataframe tbody tr th:only-of-type {\n",
       "        vertical-align: middle;\n",
       "    }\n",
       "\n",
       "    .dataframe tbody tr th {\n",
       "        vertical-align: top;\n",
       "    }\n",
       "\n",
       "    .dataframe thead th {\n",
       "        text-align: right;\n",
       "    }\n",
       "</style>\n",
       "<table border=\"1\" class=\"dataframe\">\n",
       "  <thead>\n",
       "    <tr style=\"text-align: right;\">\n",
       "      <th></th>\n",
       "      <th>mean</th>\n",
       "      <th>median</th>\n",
       "    </tr>\n",
       "    <tr>\n",
       "      <th>is_discounted</th>\n",
       "      <th></th>\n",
       "      <th></th>\n",
       "    </tr>\n",
       "  </thead>\n",
       "  <tbody>\n",
       "    <tr>\n",
       "      <th>False</th>\n",
       "      <td>248.296337</td>\n",
       "      <td>178.98</td>\n",
       "    </tr>\n",
       "    <tr>\n",
       "      <th>True</th>\n",
       "      <td>263.831362</td>\n",
       "      <td>219.24</td>\n",
       "    </tr>\n",
       "  </tbody>\n",
       "</table>\n",
       "</div>"
      ],
      "text/plain": [
       "                     mean  median\n",
       "is_discounted                    \n",
       "False          248.296337  178.98\n",
       "True           263.831362  219.24"
      ]
     },
     "execution_count": 156,
     "metadata": {},
     "output_type": "execute_result"
    }
   ],
   "source": [
    "# trying to seperate discounted vs non-discounted orders\n",
    "print('Discounted orders did indeed have higher revenue than non-discounted orders')\n",
    "data[\"is_discounted\"] = data[\"discount_applied\"] > 0\n",
    "discounted_revenue = data.groupby(\"is_discounted\")[\"revenue\"].agg([\"mean\", \"median\"])\n",
    "discounted_revenue"
   ]
  },
  {
   "cell_type": "markdown",
   "id": "a495feba",
   "metadata": {},
   "source": [
    "### 7. Payment Method Usage\n",
    "What percentage of orders use each payment method? Does any payment method correlate with higher spending?"
   ]
  },
  {
   "cell_type": "code",
   "execution_count": 157,
   "id": "64b6f2b9",
   "metadata": {},
   "outputs": [
    {
     "name": "stdout",
     "output_type": "stream",
     "text": [
      "There does not appear to be a significant difference in revenue by payment method. The are fairly distributed.\n",
      "\n",
      "payment_method\n",
      "Credit Card    27.4\n",
      "Gift Card      24.8\n",
      "Debit Card     24.6\n",
      "PayPal         23.2\n",
      "Name: proportion, dtype: float64\n"
     ]
    },
    {
     "data": {
      "text/html": [
       "<div>\n",
       "<style scoped>\n",
       "    .dataframe tbody tr th:only-of-type {\n",
       "        vertical-align: middle;\n",
       "    }\n",
       "\n",
       "    .dataframe tbody tr th {\n",
       "        vertical-align: top;\n",
       "    }\n",
       "\n",
       "    .dataframe thead th {\n",
       "        text-align: right;\n",
       "    }\n",
       "</style>\n",
       "<table border=\"1\" class=\"dataframe\">\n",
       "  <thead>\n",
       "    <tr style=\"text-align: right;\">\n",
       "      <th></th>\n",
       "      <th>mean</th>\n",
       "      <th>median</th>\n",
       "      <th>count</th>\n",
       "    </tr>\n",
       "    <tr>\n",
       "      <th>payment_method</th>\n",
       "      <th></th>\n",
       "      <th></th>\n",
       "      <th></th>\n",
       "    </tr>\n",
       "  </thead>\n",
       "  <tbody>\n",
       "    <tr>\n",
       "      <th>Debit Card</th>\n",
       "      <td>275.980650</td>\n",
       "      <td>234.160</td>\n",
       "      <td>123</td>\n",
       "    </tr>\n",
       "    <tr>\n",
       "      <th>Credit Card</th>\n",
       "      <td>257.444234</td>\n",
       "      <td>186.630</td>\n",
       "      <td>137</td>\n",
       "    </tr>\n",
       "    <tr>\n",
       "      <th>Gift Card</th>\n",
       "      <td>254.362500</td>\n",
       "      <td>215.750</td>\n",
       "      <td>124</td>\n",
       "    </tr>\n",
       "    <tr>\n",
       "      <th>PayPal</th>\n",
       "      <td>236.071034</td>\n",
       "      <td>164.945</td>\n",
       "      <td>116</td>\n",
       "    </tr>\n",
       "  </tbody>\n",
       "</table>\n",
       "</div>"
      ],
      "text/plain": [
       "                      mean   median  count\n",
       "payment_method                            \n",
       "Debit Card      275.980650  234.160    123\n",
       "Credit Card     257.444234  186.630    137\n",
       "Gift Card       254.362500  215.750    124\n",
       "PayPal          236.071034  164.945    116"
      ]
     },
     "execution_count": 157,
     "metadata": {},
     "output_type": "execute_result"
    }
   ],
   "source": [
    "print('There does not appear to be a significant difference in revenue by payment method. The are fairly distributed.\\n')\n",
    "print(data[\"payment_method\"].value_counts(normalize=True) * 100)\n",
    "\n",
    "data.groupby(\"payment_method\")[\"revenue\"].agg([\"mean\", \"median\", \"count\"]).sort_values(\n",
    "    \"mean\", ascending=False\n",
    ")\n"
   ]
  },
  {
   "cell_type": "markdown",
   "id": "a525cd28",
   "metadata": {},
   "source": [
    "### 8. Seasonality Check\n",
    "Plot revenue by day of week — are weekends busier than weekdays?"
   ]
  },
  {
   "cell_type": "code",
   "execution_count": 158,
   "id": "594adf29",
   "metadata": {},
   "outputs": [
    {
     "name": "stdout",
     "output_type": "stream",
     "text": [
      "Weekends are not busier than weekdays because each day have roughly the same number of orders.\n",
      "\n"
     ]
    },
    {
     "data": {
      "text/plain": [
       "<Axes: title={'center': 'Number of Orders by Day of Week'}, xlabel='day_of_week', ylabel='Number of Orders'>"
      ]
     },
     "execution_count": 158,
     "metadata": {},
     "output_type": "execute_result"
    },
    {
     "data": {
      "image/png": "[encoded data removed]",
      "text/plain": [
       "<Figure size 640x480 with 1 Axes>"
      ]
     },
     "metadata": {},
     "output_type": "display_data"
    }
   ],
   "source": [
    "print('Weekends are not busier than weekdays because each day have roughly the same number of orders.\\n')\n",
    "orders_by_day = data.groupby(\"day_of_week\")[\"order_id\"].count()\n",
    "\n",
    "# putting in orders by day\n",
    "weekdays = [\n",
    "    \"Monday\",\n",
    "    \"Tuesday\",\n",
    "    \"Wednesday\",\n",
    "    \"Thursday\",\n",
    "    \"Friday\",\n",
    "    \"Saturday\",\n",
    "    \"Sunday\",\n",
    "]\n",
    "orders_by_day = orders_by_day.reindex(weekdays)\n",
    "plt.xticks(rotation=45)\n",
    "plt.ylabel(\"Number of Orders\")\n",
    "plt.title(\"Number of Orders by Day of Week\")\n",
    "\n",
    "sns.barplot(x=orders_by_day.index, y=orders_by_day.values)\n",
    "\n"
   ]
  },
  {
   "cell_type": "markdown",
   "id": "08ae2706",
   "metadata": {},
   "source": [
    "### 9. Profitability (Stretch)\n",
    "Assume profit margin = 20% of revenue. Estimate total profit and identify the most profitable region."
   ]
  },
  {
   "cell_type": "code",
   "execution_count": 159,
   "id": "490e9ee2",
   "metadata": {},
   "outputs": [
    {
     "name": "stdout",
     "output_type": "stream",
     "text": [
      "The total profit so far is $ 25628.13\n"
     ]
    }
   ],
   "source": [
    "# creating new column for profit\n",
    "data['profit'] = data['revenue'] * 0.2\n",
    "total_profit = float(data['profit'].sum().round(2))\n",
    "print('The total profit so far is $', total_profit)"
   ]
  },
  {
   "cell_type": "code",
   "execution_count": 160,
   "id": "fcef41b9",
   "metadata": {},
   "outputs": [
    {
     "name": "stdout",
     "output_type": "stream",
     "text": [
      "The most profitable region is South.\n",
      "\n"
     ]
    },
    {
     "data": {
      "text/plain": [
       "region\n",
       "South    6967.890\n",
       "North    6870.338\n",
       "East     6244.360\n",
       "West     5545.546\n",
       "Name: profit, dtype: float64"
      ]
     },
     "execution_count": 160,
     "metadata": {},
     "output_type": "execute_result"
    }
   ],
   "source": [
    "# most profitable region --> should be south since it has highest revenue\n",
    "print('The most profitable region is South.\\n')\n",
    "data.groupby(\"region\")[\"profit\"].sum().sort_values(ascending=False)\n"
   ]
  },
  {
   "cell_type": "markdown",
   "id": "259fe6f7",
   "metadata": {},
   "source": [
    "### 10. Business Recommendation\n",
    "Based on your findings, recommend one strategy (e.g., focus on certain customer segments, increase discounts, promote specific regions/products)."
   ]
  },
  {
   "cell_type": "markdown",
   "id": "9415b35d",
   "metadata": {},
   "source": [
    "**Your recommendation here:**\n",
    "\n",
    "Write your analysis and recommendation based on the insights you discovered from the data.\n",
    "\n",
    "My recommendatons: There are a couple of strategies that this conmpany can do. First, since the Southern region tends to create more revenue and profit [profit is \\$6,967.89], they can focus a bit more attention to them. \n",
    "\n",
    "One way to do so is through discounted prices because discounted orders had a higher average and median revenue \n",
    "than non-discounted [\\$219.24 vs \\$178.98]. \n",
    "\n",
    "It can be applied to people who spend a lot becasue there is a create disparity from the top 5 spenders vs top 5 lowest spenders [\\$4,448.39 vs \\$124.78].\n",
    "\n",
    "This can also encourage low spenders to spend more money to buy products especially during the month of September and Novemeber since those were some of the peak monthly revenue in 2023. "
   ]
  },
  {
   "cell_type": "markdown",
   "id": "9d86796a",
   "metadata": {},
   "source": [
    "---\n",
    "\n",
    "## Submission Requirements\n",
    "\n",
    "1. **Complete code** for all 10 questions\n",
    "2. **Clear visualizations** where appropriate  \n",
    "3. **Brief interpretation** of each result\n",
    "4. **Final business recommendation** with supporting data\n",
    "\n",
    "Remember: Focus on what the numbers tell us about the business, not just the calculations themselves."
   ]
  }
 ],
 "metadata": {
  "kernelspec": {
   "display_name": "venv (3.12.3)",
   "language": "python",
   "name": "python3"
  },
  "language_info": {
   "codemirror_mode": {
    "name": "ipython",
    "version": 3
   },
   "file_extension": ".py",
   "mimetype": "text/x-python",
   "name": "python",
   "nbconvert_exporter": "python",
   "pygments_lexer": "ipython3",
   "version": "3.12.3"
  }
 },
 "nbformat": 4,
 "nbformat_minor": 5
}
